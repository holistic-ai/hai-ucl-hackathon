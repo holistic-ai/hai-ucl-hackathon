{
 "cells": [
  {
   "cell_type": "markdown",
   "source": [
    "## Holistic AI x UCL AI Society Hackathon Tutorial\n",
    "\n",
    "### Track 1: Multi-Objective Optimization for AI Trustworthiness in Tabular Data Classification\n",
    "\n",
    "This track challenges participants to develop trustworthy AI systems for tabular data classification by optimizing not only **performance** and **fairness** but also key risk dimensions: **security**, **efficacy**, **explainability**, and **sustainability**. By leveraging the **HolisticAI open-source library** or or custom-defined metrics and mitigation strategies, participants will seamlessly incorporate ethical and practical AI principles into their models.\n",
    "\n",
    "#### Objectives:\n",
    "- **Fairness**: Detect and mitigate biases to ensure equitable outcomes across demographic groups.\n",
    "- **Performance**: Maintain high accuracy.\n",
    "- **Security and Privacy**: Address risks such as adversarial attacks.\n",
    "- **Efficacy and Robustness**: Build models that generalize effectively and robust under varied scenarios.\n",
    "- **Explainability and Transparency**: Provide clear, interpretable insights into model decision-making.\n",
    "- **Sustainability**: Reduce carbon footprint and optimize computational resources.\n",
    "\n",
    "#### Tutorial and Resources:\n",
    "Participants can explore practical examples and comprehensive documentation of the HolisticAI library:\n",
    "\n",
    "[HolisticAI Library Tutorial](https://holisticai.readthedocs.io/en/latest/gallery/index.html)"
   ],
   "metadata": {
    "collapsed": false
   }
  },
  {
   "cell_type": "markdown",
   "metadata": {},
   "source": [
    "<h1 align=\"center\">\n",
    "<img src=\"https://bmcnews.com.br/wp-content/uploads/2023/11/NOVO-PROJETO-27-1024x536.jpg\" width=\"500\">\n",
    "<br>Study Case: The Minimum Wage Dataset\n",
    "<h4 align=\"center\">Technical Risks in Machine Learning Models</h2>\n",
    "</h1>\n",
    "\n",
    "\n",
    "The **Minimum Wage** dataset, specifically curated for the first edition of the HAI-UCL Hackathon, originates from Brazil's **RAIS** (Relação Anual de Informações Sociais) database. Compiled annually by the Brazilian Ministry of Labor, RAIS provides detailed records on formal employment, encompassing essential information such as worker demographics, wage levels, job tenure, and firm-specific details like location, industry classification, and company size. RAIS data enables rigorous labor economic analyses, making it crucial for studying income distribution, employment patterns, and social inequalities in Brazil.\n",
    "\n",
    "The **Minimum Wage** dataset includes a carefully balanced sample of 100,000 workers, divided equally across four demographic groups: White-Male, White-Female, Black-Male, and Black-Female (each comprising 25%). This balanced design allows for focused analysis of wage disparities and demographic influences by race and gender, supporting insights into socioeconomic trends in the Brazilian labor market.\n",
    "\n",
    "**(Goal)** The primary goal of analyzing the Minimum Wage dataset is to predict whether a worker’s average income falls above or below five times the minimum wage threshold.\n",
    "\n",
    "**(Features)** The following table presents the 13 features of Minimum Wage dataset, including the target variable \"y (target)\".\n",
    "\n",
    "| Feature                  | Description                                                                                      |\n",
    "|--------------------------|--------------------------------------------------------------------------------------------------|\n",
    "| `age` | Age of the individual in years. |\n",
    "| `state` | Federal state of residence or work, typically coded as a two-letter abbreviation (e.g., RJ for Rio de Janeiro, SP for São Paulo). |\n",
    "| `time_employed` | Duration of employment with the current employer, often measured in months or years. |\n",
    "| `contracted_hours` | Contracted weekly working hours, indicating the standard hours agreed upon for the role. |\n",
    "| `intermittent_work` | Indicator of intermittent work status (binary: 0 = \"No\", 1 = \"Yes\"), denoting sporadic or flexible employment arrangements. |\n",
    "| `partial_time_work` | Indicator of part-time employment (binary: 0 = \"No\", 1 = \"Yes\"), typically under 40 hours per week. |\n",
    "| `economic_sector` | Categorical field for the sector of the economy in which the individual is employed (e.g., agriculture, manufacturing). |\n",
    "| `cbo_2002` | Occupational classification code based on the Brazilian Classification of Occupations (CBO 2002). |\n",
    "| `age_group` | Categorical age group classification (e.g., 18-24, 25-34), often used for demographic analysis. |\n",
    "| `education_level` | Highest level of education completed (e.g., primary, secondary, higher education). |\n",
    "| `sex` | Sex of the individual (binary: \"Male\", \"Female\"). |\n",
    "| `race` | Race/ethnicity classification, typically based on self-identification categories (e.g., White, Black, Pardo). |\n",
    "| `disability` | Indicator of disability status (binary: 0 = \"No\", 1 = \"Yes\"), identifying individuals with disabilities. |\n",
    "| `y (target)` | Target variable indicating whether the worker receives more than five minimum wages on average (binary: 0 = \"No\", 1 = \"Yes\"). |"
   ]
  },
  {
   "cell_type": "markdown",
   "source": [
    "## Setup and Dependencies\n",
    "Install the necessary libraries to get started:"
   ],
   "metadata": {
    "collapsed": false
   }
  },
  {
   "cell_type": "code",
   "outputs": [],
   "source": [
    "pip install holisticai scikit-learn pandas numpy matplotlib seaborn jax"
   ],
   "metadata": {
    "collapsed": false
   },
   "execution_count": null
  },
  {
   "cell_type": "markdown",
   "metadata": {},
   "source": [
    "### Load Dataset"
   ]
  },
  {
   "cell_type": "code",
   "execution_count": 2,
   "metadata": {
    "ExecuteTime": {
     "end_time": "2024-11-19T17:51:27.393619Z",
     "start_time": "2024-11-19T17:51:25.474479Z"
    }
   },
   "outputs": [],
   "source": [
    "from holisticai.datasets import load_dataset\n",
    "\n",
    "dataset = load_dataset(\"mw_small\", protected_attribute=\"race\")\n",
    "split_dataset = dataset.train_test_split(test_size=0.2, random_state=42)\n",
    "train = split_dataset['train']\n",
    "test = split_dataset['test']"
   ]
  },
  {
   "cell_type": "markdown",
   "metadata": {},
   "source": [
    "## 1. Train a Binary Classification Model"
   ]
  },
  {
   "cell_type": "code",
   "execution_count": 3,
   "metadata": {
    "ExecuteTime": {
     "end_time": "2024-11-19T17:51:29.689534Z",
     "start_time": "2024-11-19T17:51:27.394416Z"
    }
   },
   "outputs": [],
   "source": [
    "from sklearn.ensemble import RandomForestClassifier\n",
    "from holisticai.utils import BinaryClassificationProxy\n",
    "\n",
    "model = RandomForestClassifier(random_state=42)\n",
    "\n",
    "model.fit(train['X'], train['y'])\n",
    "\n",
    "proxy = BinaryClassificationProxy(predict=model.predict, predict_proba=model.predict_proba)"
   ]
  },
  {
   "cell_type": "markdown",
   "metadata": {},
   "source": [
    "## 2. Measuring Efficacy\n",
    "\n",
    "Efficacy metrics are used to evaluate the performance of a model by quantifying how accurately it makes predictions."
   ]
  },
  {
   "cell_type": "markdown",
   "metadata": {},
   "source": [
    "## a) Accuracy\n",
    "\n",
    "**Accuracy** is a metric that measures the proportion of correct predictions made by a classification model out of the total predictions. It is a commonly used metric for model evaluation, especially when the classes are balanced.\n",
    "\n",
    "### Formula\n",
    "\n",
    "Accuracy is defined as:\n",
    "\n",
    "$$\n",
    "\\text{Accuracy} = \\frac{\\text{True Positives} + \\text{True Negatives}}{\\text{Total Predictions}}\n",
    "$$\n",
    "\n",
    "where:\n",
    "- **True Positives (TP)**: Correct positive predictions.\n",
    "- **True Negatives (TN)**: Correct negative predictions.\n",
    "- **Total Predictions** $= \\text{True Positives} + \\text{True Negatives} + \\text{False Positives} + \\text{False Negatives}$.\n",
    "\n",
    "### Interpretation\n",
    "\n",
    "- **Accuracy = 1**: The model predicts all outcomes correctly.\n",
    "- **Accuracy < 1**: The model has some incorrect predictions.\n",
    "\n",
    "Accuracy is useful when the class distribution is balanced. However, it can be misleading if the data is imbalanced, as it does no\n"
   ]
  },
  {
   "cell_type": "code",
   "execution_count": 4,
   "metadata": {
    "ExecuteTime": {
     "end_time": "2024-11-19T17:51:29.796941Z",
     "start_time": "2024-11-19T17:51:29.691126Z"
    }
   },
   "outputs": [
    {
     "data": {
      "text/plain": "0.94"
     },
     "execution_count": 4,
     "metadata": {},
     "output_type": "execute_result"
    }
   ],
   "source": [
    "from sklearn.metrics import accuracy_score\n",
    "\n",
    "y_test_pred = proxy.predict(test['X'])\n",
    "accuracy_score(test['y'], y_test_pred)"
   ]
  },
  {
   "cell_type": "markdown",
   "metadata": {},
   "source": [
    "## b) F1 Score\n",
    "\n",
    "The **F1 Score** is a metric that combines both precision and recall into a single score. It is especially useful for evaluating the performance of a classification model when there is an imbalance in the class distribution, as it balances the trade-off between false positives and false negatives.\n",
    "\n",
    "### Formula\n",
    "\n",
    "The F1 Score is the harmonic mean of precision and recall and is defined as:\n",
    "\n",
    "$$\n",
    "F1 = 2 \\cdot \\frac{\\text{Precision} \\cdot \\text{Recall}}{\\text{Precision} + \\text{Recall}}\n",
    "$$\n",
    "\n",
    "where:\n",
    "- **Precision**: The ratio of correctly predicted positive observations to total predicted positives.\n",
    "\n",
    "  $$\n",
    "  \\text{Precision} = \\frac{\\text{True Positives}}{\\text{True Positives} + \\text{False Positives}}\n",
    "  $$\n",
    "\n",
    "- **Recall**: The ratio of correctly predicted positive observations to all actual positives.\n",
    "\n",
    "  $$\n",
    "  \\text{Recall} = \\frac{\\text{True Positives}}{\\text{True Positives} + \\text{False Negatives}}\n",
    "  $$\n",
    "\n",
    "### Interpretation\n",
    "\n",
    "- **F1 Score = 1**: Perfect precision and recall.\n",
    "- **F1 Score = 0**: Model fails to identify any true positives.\n",
    "  \n",
    "A higher F1 Score indicates better"
   ]
  },
  {
   "cell_type": "code",
   "execution_count": 5,
   "metadata": {
    "ExecuteTime": {
     "end_time": "2024-11-19T17:51:29.801836Z",
     "start_time": "2024-11-19T17:51:29.797467Z"
    }
   },
   "outputs": [
    {
     "data": {
      "text/plain": "np.float64(0.4276629570747218)"
     },
     "execution_count": 5,
     "metadata": {},
     "output_type": "execute_result"
    }
   ],
   "source": [
    "from sklearn.metrics import f1_score\n",
    "\n",
    "f1_score(test['y'], y_test_pred)"
   ]
  },
  {
   "cell_type": "markdown",
   "metadata": {},
   "source": [
    "What other efficacy metrics do we have for binary classification? Holistic AI library allows you to perform a practical inspection of the metrics by calling ```classification_efficacy_metrics```:"
   ]
  },
  {
   "cell_type": "code",
   "execution_count": 6,
   "metadata": {
    "ExecuteTime": {
     "end_time": "2024-11-19T17:51:29.813676Z",
     "start_time": "2024-11-19T17:51:29.802423Z"
    }
   },
   "outputs": [
    {
     "data": {
      "text/plain": "                      Value  Reference\nMetric                                \nAccuracy           0.940000          1\nBalanced Accuracy  0.660526          1\nPrecision          0.580994          1\nRecall             0.338365          1\nF1-Score           0.427663          1",
      "text/html": "<div>\n<style scoped>\n    .dataframe tbody tr th:only-of-type {\n        vertical-align: middle;\n    }\n\n    .dataframe tbody tr th {\n        vertical-align: top;\n    }\n\n    .dataframe thead th {\n        text-align: right;\n    }\n</style>\n<table border=\"1\" class=\"dataframe\">\n  <thead>\n    <tr style=\"text-align: right;\">\n      <th></th>\n      <th>Value</th>\n      <th>Reference</th>\n    </tr>\n    <tr>\n      <th>Metric</th>\n      <th></th>\n      <th></th>\n    </tr>\n  </thead>\n  <tbody>\n    <tr>\n      <th>Accuracy</th>\n      <td>0.940000</td>\n      <td>1</td>\n    </tr>\n    <tr>\n      <th>Balanced Accuracy</th>\n      <td>0.660526</td>\n      <td>1</td>\n    </tr>\n    <tr>\n      <th>Precision</th>\n      <td>0.580994</td>\n      <td>1</td>\n    </tr>\n    <tr>\n      <th>Recall</th>\n      <td>0.338365</td>\n      <td>1</td>\n    </tr>\n    <tr>\n      <th>F1-Score</th>\n      <td>0.427663</td>\n      <td>1</td>\n    </tr>\n  </tbody>\n</table>\n</div>"
     },
     "execution_count": 6,
     "metadata": {},
     "output_type": "execute_result"
    }
   ],
   "source": [
    "from holisticai.efficacy.metrics import classification_efficacy_metrics\n",
    "\n",
    "classification_efficacy_metrics(test['y'], y_test_pred)"
   ]
  },
  {
   "cell_type": "markdown",
   "metadata": {},
   "source": [
    "# 2. Measuring Bias\n",
    "\n",
    "In machine learning fairness, Equal Opportunity and Equal Outcomes are distinct concepts:\n",
    "\n",
    "- **Equal Opportunity**: Ensures individuals with similar qualifications have equal chances of positive outcomes, focusing on equal true positive rates across groups.\n",
    "\n",
    "- **Equal Outcomes**: Aims for equal proportions of positive results among different demographic groups, regardless of individual qualifications."
   ]
  },
  {
   "cell_type": "markdown",
   "metadata": {},
   "source": [
    "## a) Disparate Impact\n",
    "\n",
    "**Disparate Impact** is a fairness metric used to measure the relative rate of favorable outcomes between an unprivileged group and a privileged group. It is commonly used to assess whether a model’s predictions disproportionately favor one group over another. A value close to 1 indicates fairness, while values significantly above or below 1 indicate potential bias.\n",
    "\n",
    "### Formula\n",
    "\n",
    "$$\n",
    "\\text{Disparate Impact} = \\frac{P(\\text{positive outcome | unprivileged})}{P(\\text{positive outcome | privileged})}\n",
    "$$\n",
    "\n",
    "where:\n",
    "- $P(\\text{positive outcome | unprivileged})$ is the probability of a positive outcome for the unprivileged group.\n",
    "- $P(\\text{positive outcome | privileged})$ is the probability of a positive outcome for the privileged group.\n",
    "\n",
    "\n",
    "### Interpretation\n",
    "\n",
    "- **Disparate Impact ≈ 1**: The model is fair (similar outcomes for both groups).\n",
    "- **< 1**: The privileged group has a higher rate of positive outcomes.\n",
    "- **> 1**: The unprivileged group has a higher rate of positive outcomes.\n",
    "\n",
    "In practice, a common threshold for fairness is that **Disparate Impact should be between 0.8 and 1.25**. If the metric falls outside this range, the model may be considered biased."
   ]
  },
  {
   "cell_type": "code",
   "execution_count": 7,
   "metadata": {
    "ExecuteTime": {
     "end_time": "2024-11-19T17:51:29.819449Z",
     "start_time": "2024-11-19T17:51:29.814239Z"
    }
   },
   "outputs": [
    {
     "data": {
      "text/plain": "np.float64(2.5924154300049236)"
     },
     "execution_count": 7,
     "metadata": {},
     "output_type": "execute_result"
    }
   ],
   "source": [
    "from holisticai.bias.metrics import disparate_impact\n",
    "\n",
    "disparate_impact(test['group_a'], test['group_b'], y_test_pred)"
   ]
  },
  {
   "cell_type": "markdown",
   "metadata": {},
   "source": [
    "## b) Equal Opportunity Difference\n",
    "\n",
    "The **Equal Opportunity Difference** is a fairness metric that measures the difference in true positive rates (TPR) between privileged and unprivileged groups in a classification model. Ideally, this difference should be close to zero to ensure fairness.\n",
    "\n",
    "### Formula\n",
    "\n",
    "$$\n",
    "\\text{Equal Opportunity Difference} = TPR_{privileged} - TPR_{unprivileged}\n",
    "$$\n",
    "\n",
    "### Interpretation\n",
    "\n",
    "- **0**: The model is fair (Equal Opportunity).\n",
    "- **Positive**: The privileged group has a higher chance of a positive prediction.\n",
    "- **Negative**: The unprivileged group has a higher chance of a positive prediction."
   ]
  },
  {
   "cell_type": "code",
   "execution_count": 8,
   "metadata": {
    "ExecuteTime": {
     "end_time": "2024-11-19T17:51:29.824702Z",
     "start_time": "2024-11-19T17:51:29.820303Z"
    }
   },
   "outputs": [
    {
     "data": {
      "text/plain": "np.float64(0.1265533384139229)"
     },
     "execution_count": 8,
     "metadata": {},
     "output_type": "execute_result"
    }
   ],
   "source": [
    "from holisticai.bias.metrics import equal_opportunity_diff\n",
    "\n",
    "equal_opportunity_diff(test['group_a'], test['group_b'], y_test_pred, test['y'])"
   ]
  },
  {
   "cell_type": "markdown",
   "metadata": {},
   "source": [
    "You can access all bias metrics for binary classification available in the HolisticAI library using the ```classification_bias_metrics``` function."
   ]
  },
  {
   "cell_type": "code",
   "execution_count": 9,
   "metadata": {
    "ExecuteTime": {
     "end_time": "2024-11-19T17:51:29.835494Z",
     "start_time": "2024-11-19T17:51:29.825334Z"
    }
   },
   "outputs": [
    {
     "data": {
      "text/plain": "                                       Value  Reference\nMetric                                                 \nStatistical Parity                  0.034052          0\nDisparate Impact                    2.592415          1\nFour Fifths Rule                    0.385741          1\nCohen D                             0.177498          0\n2SD Rule                            9.683431          0\nEquality of Opportunity Difference  0.126553          0\nFalse Positive Rate Difference      0.009968          0\nAverage Odds Difference             0.068261          0\nAccuracy Difference                -0.038451          0",
      "text/html": "<div>\n<style scoped>\n    .dataframe tbody tr th:only-of-type {\n        vertical-align: middle;\n    }\n\n    .dataframe tbody tr th {\n        vertical-align: top;\n    }\n\n    .dataframe thead th {\n        text-align: right;\n    }\n</style>\n<table border=\"1\" class=\"dataframe\">\n  <thead>\n    <tr style=\"text-align: right;\">\n      <th></th>\n      <th>Value</th>\n      <th>Reference</th>\n    </tr>\n    <tr>\n      <th>Metric</th>\n      <th></th>\n      <th></th>\n    </tr>\n  </thead>\n  <tbody>\n    <tr>\n      <th>Statistical Parity</th>\n      <td>0.034052</td>\n      <td>0</td>\n    </tr>\n    <tr>\n      <th>Disparate Impact</th>\n      <td>2.592415</td>\n      <td>1</td>\n    </tr>\n    <tr>\n      <th>Four Fifths Rule</th>\n      <td>0.385741</td>\n      <td>1</td>\n    </tr>\n    <tr>\n      <th>Cohen D</th>\n      <td>0.177498</td>\n      <td>0</td>\n    </tr>\n    <tr>\n      <th>2SD Rule</th>\n      <td>9.683431</td>\n      <td>0</td>\n    </tr>\n    <tr>\n      <th>Equality of Opportunity Difference</th>\n      <td>0.126553</td>\n      <td>0</td>\n    </tr>\n    <tr>\n      <th>False Positive Rate Difference</th>\n      <td>0.009968</td>\n      <td>0</td>\n    </tr>\n    <tr>\n      <th>Average Odds Difference</th>\n      <td>0.068261</td>\n      <td>0</td>\n    </tr>\n    <tr>\n      <th>Accuracy Difference</th>\n      <td>-0.038451</td>\n      <td>0</td>\n    </tr>\n  </tbody>\n</table>\n</div>"
     },
     "execution_count": 9,
     "metadata": {},
     "output_type": "execute_result"
    }
   ],
   "source": [
    "from holisticai.bias.metrics import classification_bias_metrics\n",
    "\n",
    "classification_bias_metrics(test['group_a'], test['group_b'], y_test_pred, test['y'])"
   ]
  },
  {
   "cell_type": "markdown",
   "metadata": {},
   "source": [
    "# 3. Measuring Explainability\n",
    "\n",
    "Model interpretability can be quantified through various criteria that assess how understandable a model is, as well as through transparent surrogate models that aim to represent the actual model and its decision-making process. Some criteria include:\n",
    "\n",
    "- **Concentration of Feature Importance**: Evaluating how feature importance is distributed across the model.\n",
    "\n",
    "- **Consistency of Feature Importance Ranking**: Assessing the stability of feature importance rankings across different decision groups within the model, such as classes 0 and 1 in binary classification.\n",
    "\n",
    "- **Stability of Feature Importance Across the Dataset**: Analyzing how feature importance varies throughout the dataset.\n",
    "\n",
    "- **Complexity of Feature Relationships**: Examining the complexity of the relationship between features and their partial dependence plots.\n",
    "\n",
    "Another approach to quantifying interpretability is to evaluate how effectively a transparent model fits the actual model. For instance, if the surrogate model is a decision tree, additional measures such as tree depth or the number of features used by the transparent model can be considered.\n",
    "\n",
    "In this tutorial, we will calculate certain model features that will assist in evaluating interpretability metrics."
   ]
  },
  {
   "cell_type": "code",
   "execution_count": 10,
   "metadata": {
    "ExecuteTime": {
     "end_time": "2024-11-19T17:51:40.383755Z",
     "start_time": "2024-11-19T17:51:29.837664Z"
    }
   },
   "outputs": [],
   "source": [
    "from holisticai.inspection import compute_permutation_importance\n",
    "from holisticai.utils.surrogate_models import create_surrogate_model\n",
    "from holisticai.inspection import compute_partial_dependence\n",
    "from holisticai.inspection import compute_conditional_permutation_importance\n",
    "\n",
    "\n",
    "# Feature Importance\n",
    "importance = compute_permutation_importance(proxy, X=train['X'], y=train['y'])\n",
    "top_importance = importance.top_alpha()\n",
    "top_feature_names = top_importance.feature_names\n",
    "\n",
    "# Conditional Feature Importance\n",
    "conditional_impotance = compute_conditional_permutation_importance(proxy, X=test['X'], y=test['y'])\n",
    "\n",
    "# Partial Dependence\n",
    "X_sample = test['X'].sample(1000)\n",
    "partial_dependence = compute_partial_dependence(features=top_feature_names, proxy=proxy, X=X_sample)\n",
    "\n",
    "# Surrogate Model\n",
    "surrogate_model = create_surrogate_model(X=train['X'], y_pred=train['y'], surrogate_type='tree', learning_task='classification')"
   ]
  },
  {
   "cell_type": "markdown",
   "metadata": {},
   "source": [
    "Measuring Alpha  Score that represents the percentage of features that represent the 80% of importnaces in the model behaivours. A lower value points that we can explain the model decision with few features."
   ]
  },
  {
   "cell_type": "code",
   "execution_count": 11,
   "metadata": {
    "ExecuteTime": {
     "end_time": "2024-11-19T17:51:40.393203Z",
     "start_time": "2024-11-19T17:51:40.384560Z"
    }
   },
   "outputs": [
    {
     "data": {
      "text/plain": "0.5"
     },
     "execution_count": 11,
     "metadata": {},
     "output_type": "execute_result"
    }
   ],
   "source": [
    "from holisticai.explainability.metrics.global_feature_importance import alpha_score\n",
    "\n",
    "alpha_score(importance)"
   ]
  },
  {
   "cell_type": "markdown",
   "metadata": {},
   "source": [
    "Measuring Fluctuation Ratio points the percentage in the PDP curve that present fluctuation in the model prediction."
   ]
  },
  {
   "cell_type": "code",
   "execution_count": 12,
   "metadata": {
    "ExecuteTime": {
     "end_time": "2024-11-19T17:51:40.510619Z",
     "start_time": "2024-11-19T17:51:40.393985Z"
    }
   },
   "outputs": [
    {
     "data": {
      "text/plain": "0.20193250000000004"
     },
     "execution_count": 12,
     "metadata": {},
     "output_type": "execute_result"
    }
   ],
   "source": [
    "from holisticai.explainability.metrics.global_feature_importance import fluctuation_ratio\n",
    "\n",
    "fluctuation_ratio(partial_dependence)"
   ]
  },
  {
   "cell_type": "markdown",
   "metadata": {},
   "source": [
    "Rank Alignment estimates the percentage of features that remain aligned at the top of importances for label 0 and label 1"
   ]
  },
  {
   "cell_type": "code",
   "execution_count": 13,
   "metadata": {
    "ExecuteTime": {
     "end_time": "2024-11-19T17:51:40.514986Z",
     "start_time": "2024-11-19T17:51:40.511450Z"
    }
   },
   "outputs": [
    {
     "data": {
      "text/plain": "0.625"
     },
     "execution_count": 13,
     "metadata": {},
     "output_type": "execute_result"
    }
   ],
   "source": [
    "from holisticai.explainability.metrics.global_feature_importance import rank_alignment\n",
    "\n",
    "rank_alignment(conditional_impotance, top_importance)"
   ]
  },
  {
   "cell_type": "markdown",
   "metadata": {},
   "source": [
    "Global Feature Importance Based Metrics"
   ]
  },
  {
   "cell_type": "code",
   "execution_count": 14,
   "metadata": {
    "ExecuteTime": {
     "end_time": "2024-11-19T17:51:40.633639Z",
     "start_time": "2024-11-19T17:51:40.515645Z"
    }
   },
   "outputs": [
    {
     "data": {
      "text/plain": "                      Value Reference\nSpread Divergence  0.450526         1\nFluctuation Ratio  0.201933         0\nRank Alignment        0.875         1\nAlpha Score             0.5         0",
      "text/html": "<div>\n<style scoped>\n    .dataframe tbody tr th:only-of-type {\n        vertical-align: middle;\n    }\n\n    .dataframe tbody tr th {\n        vertical-align: top;\n    }\n\n    .dataframe thead th {\n        text-align: right;\n    }\n</style>\n<table border=\"1\" class=\"dataframe\">\n  <thead>\n    <tr style=\"text-align: right;\">\n      <th></th>\n      <th>Value</th>\n      <th>Reference</th>\n    </tr>\n  </thead>\n  <tbody>\n    <tr>\n      <th>Spread Divergence</th>\n      <td>0.450526</td>\n      <td>1</td>\n    </tr>\n    <tr>\n      <th>Fluctuation Ratio</th>\n      <td>0.201933</td>\n      <td>0</td>\n    </tr>\n    <tr>\n      <th>Rank Alignment</th>\n      <td>0.875</td>\n      <td>1</td>\n    </tr>\n    <tr>\n      <th>Alpha Score</th>\n      <td>0.5</td>\n      <td>0</td>\n    </tr>\n  </tbody>\n</table>\n</div>"
     },
     "execution_count": 14,
     "metadata": {},
     "output_type": "execute_result"
    }
   ],
   "source": [
    "from holisticai.explainability.metrics import classification_global_feature_importance_explainability_metrics\n",
    "\n",
    "classification_global_feature_importance_explainability_metrics(partial_dependence, importance, conditional_impotance)"
   ]
  },
  {
   "cell_type": "markdown",
   "metadata": {},
   "source": [
    "Tree based Metrics"
   ]
  },
  {
   "cell_type": "code",
   "execution_count": 15,
   "metadata": {
    "ExecuteTime": {
     "end_time": "2024-11-19T17:51:40.692689Z",
     "start_time": "2024-11-19T17:51:40.634318Z"
    }
   },
   "outputs": [
    {
     "data": {
      "text/plain": "                                             value  reference\nmetric                                                       \nWeighted Average Depth                   16.837876        0.0\nWeighted Average Explainability Score     8.864541        0.0\nWeighted Gini Index                       0.933209        0.0\nTree Depth Variance                      23.535855        0.0\nNumber of Rules                        3169.000000        1.0\nNumber of Features                        8.000000        1.0",
      "text/html": "<div>\n<style scoped>\n    .dataframe tbody tr th:only-of-type {\n        vertical-align: middle;\n    }\n\n    .dataframe tbody tr th {\n        vertical-align: top;\n    }\n\n    .dataframe thead th {\n        text-align: right;\n    }\n</style>\n<table border=\"1\" class=\"dataframe\">\n  <thead>\n    <tr style=\"text-align: right;\">\n      <th></th>\n      <th>value</th>\n      <th>reference</th>\n    </tr>\n    <tr>\n      <th>metric</th>\n      <th></th>\n      <th></th>\n    </tr>\n  </thead>\n  <tbody>\n    <tr>\n      <th>Weighted Average Depth</th>\n      <td>16.837876</td>\n      <td>0.0</td>\n    </tr>\n    <tr>\n      <th>Weighted Average Explainability Score</th>\n      <td>8.864541</td>\n      <td>0.0</td>\n    </tr>\n    <tr>\n      <th>Weighted Gini Index</th>\n      <td>0.933209</td>\n      <td>0.0</td>\n    </tr>\n    <tr>\n      <th>Tree Depth Variance</th>\n      <td>23.535855</td>\n      <td>0.0</td>\n    </tr>\n    <tr>\n      <th>Number of Rules</th>\n      <td>3169.000000</td>\n      <td>1.0</td>\n    </tr>\n    <tr>\n      <th>Number of Features</th>\n      <td>8.000000</td>\n      <td>1.0</td>\n    </tr>\n  </tbody>\n</table>\n</div>"
     },
     "execution_count": 15,
     "metadata": {},
     "output_type": "execute_result"
    }
   ],
   "source": [
    "from holisticai.explainability.metrics import tree_explainability_metrics\n",
    "\n",
    "tree_explainability_metrics(surrogate_model)"
   ]
  },
  {
   "cell_type": "markdown",
   "metadata": {},
   "source": [
    "Surrogate Based Metrics"
   ]
  },
  {
   "cell_type": "code",
   "execution_count": 16,
   "metadata": {
    "ExecuteTime": {
     "end_time": "2024-11-19T17:51:45.470485Z",
     "start_time": "2024-11-19T17:51:40.693552Z"
    }
   },
   "outputs": [
    {
     "data": {
      "text/plain": "                                Value Reference\nAccuracy Degradation         0.023409         0\nSurrogate Fidelity           0.947417         1\nSurrogate Feature Stability     0.975         1",
      "text/html": "<div>\n<style scoped>\n    .dataframe tbody tr th:only-of-type {\n        vertical-align: middle;\n    }\n\n    .dataframe tbody tr th {\n        vertical-align: top;\n    }\n\n    .dataframe thead th {\n        text-align: right;\n    }\n</style>\n<table border=\"1\" class=\"dataframe\">\n  <thead>\n    <tr style=\"text-align: right;\">\n      <th></th>\n      <th>Value</th>\n      <th>Reference</th>\n    </tr>\n  </thead>\n  <tbody>\n    <tr>\n      <th>Accuracy Degradation</th>\n      <td>0.023409</td>\n      <td>0</td>\n    </tr>\n    <tr>\n      <th>Surrogate Fidelity</th>\n      <td>0.947417</td>\n      <td>1</td>\n    </tr>\n    <tr>\n      <th>Surrogate Feature Stability</th>\n      <td>0.975</td>\n      <td>1</td>\n    </tr>\n  </tbody>\n</table>\n</div>"
     },
     "execution_count": 16,
     "metadata": {},
     "output_type": "execute_result"
    }
   ],
   "source": [
    "from holisticai.explainability.metrics import classification_surrogate_explainability_metrics\n",
    "\n",
    "y_pred = proxy.predict(test['X'])\n",
    "classification_surrogate_explainability_metrics(test['X'], test['y'], y_pred, surrogate_model)"
   ]
  },
  {
   "cell_type": "markdown",
   "metadata": {},
   "source": [
    "# 4. Measuring Security"
   ]
  },
  {
   "cell_type": "markdown",
   "metadata": {},
   "source": [
    "Security metrics in machine learning evaluate the robustness and resilience of models against threats to data privacy, model integrity, and information leakage. They provide insight into how susceptible a model is to various risks and guide strategies to safeguard sensitive information and maintain reliable performance.\n",
    "\n",
    "Here’s a brief description of each type of security metric in the library:\n",
    "\n",
    "- **SHAPR**: This metric assesses membership privacy risk by estimating how much individual training data points influence model predictions. By using Shapley values, SHAPR quantifies the likelihood of data memorization, which can reveal vulnerabilities to membership inference attacks.\n",
    "\n",
    "- **Data Minimizer**: Similar to feature selection methods, Data Minimizer evaluates the model’s performance as features are iteratively removed. By identifying features that have minimal impact on model accuracy, it highlights areas where data minimization can improve privacy without sacrificing effectiveness.\n",
    "\n",
    "- **Privacy Risk Score**: This metric quantifies the likelihood that a specific input sample originates from the model's training set, based on the model's responses to that sample. Privacy Risk Score helps to identify which samples present the highest risk to be classified as training data, or in general, how risky is the model in terms of data privacy with respect to our training data."
   ]
  },
  {
   "cell_type": "code",
   "execution_count": 17,
   "metadata": {
    "ExecuteTime": {
     "end_time": "2024-11-19T17:51:46.689215Z",
     "start_time": "2024-11-19T17:51:45.471191Z"
    }
   },
   "outputs": [
    {
     "data": {
      "text/plain": "0.9998227264669384"
     },
     "execution_count": 17,
     "metadata": {},
     "output_type": "execute_result"
    }
   ],
   "source": [
    "from holisticai.security.commons import DataMinimizer\n",
    "from holisticai.security.metrics import data_minimization_score\n",
    "\n",
    "dmin = DataMinimizer(proxy=proxy, selector_types=[\"Percentile\", \"Variance\"])\n",
    "dmin.fit(train['X'], train['y'])\n",
    "\n",
    "y_pred_test = proxy.predict(test['X'])\n",
    "y_pred_test_dm = dmin.predict(test['X'])\n",
    "\n",
    "\n",
    "data_minimization_score(test['y'], y_pred_test, y_pred_test_dm)"
   ]
  },
  {
   "cell_type": "code",
   "execution_count": 18,
   "metadata": {
    "ExecuteTime": {
     "end_time": "2024-11-19T17:51:48.218947Z",
     "start_time": "2024-11-19T17:51:46.689893Z"
    }
   },
   "outputs": [
    {
     "name": "stdout",
     "output_type": "stream",
     "text": [
      "Mean Privacy Risk Score for train:  0.5315132142265244\n"
     ]
    }
   ],
   "source": [
    "from holisticai.security.metrics import privacy_risk_score\n",
    "\n",
    "target_shadow = train.train_test_split(test_size=0.4, random_state=42)\n",
    "\n",
    "X_shadow_train = target_shadow['test']['X']\n",
    "y_shadow_train = target_shadow['test']['y']\n",
    "\n",
    "shadow_model = RandomForestClassifier(random_state=42)\n",
    "shadow_model.fit(X_shadow_train, y_shadow_train)\n",
    "\n",
    "shadow_train_probs = shadow_model.predict_proba(X_shadow_train)\n",
    "shadow_test_probs = shadow_model.predict_proba(test['X'])\n",
    "target_train_probs = proxy.predict_proba(train['X'])\n",
    "target_test_probs = proxy.predict_proba(test['X'])\n",
    "\n",
    "risk_score_train = privacy_risk_score((shadow_train_probs, y_shadow_train), (shadow_test_probs, test['y']), (target_train_probs, train['y']))\n",
    "print(\"Mean Privacy Risk Score for train: \", risk_score_train.mean())"
   ]
  },
  {
   "cell_type": "markdown",
   "metadata": {},
   "source": [
    "Given that this metric estimates an individual sample’s probability of being in the target model’s training set. By calculating the mean Privacy Risk Score across all samples, we can obtain a global measure of the model’s privacy risk. In an ideal scenario, the Privacy Risk Score should be close to 0, indicating a low risk of data memorization, while higher values suggest potential vulnerabilities to membership inference attacks."
   ]
  },
  {
   "cell_type": "markdown",
   "metadata": {},
   "source": [
    "# 5. Measuring Robustness\n",
    "\n",
    "Robustness metrics are measures used to evaluate how well machine learning models maintain performance under varying conditions, such as data shifts, adversarial inputs, or environmental changes. These metrics help assess a model’s resilience and reliability in real-world applications.\n"
   ]
  },
  {
   "cell_type": "markdown",
   "metadata": {},
   "source": [
    "Accuracy Degradation Factor (ADF) is a robustness metric that detects the first point of significant accuracy drop as a dataset is gradually reduced, allowing for the prediction of performance shifts due to changing data distributions. Here is an exampel how to use the metric:"
   ]
  },
  {
   "cell_type": "code",
   "execution_count": 19,
   "metadata": {
    "ExecuteTime": {
     "end_time": "2024-11-19T17:52:02.545770Z",
     "start_time": "2024-11-19T17:51:48.219566Z"
    }
   },
   "outputs": [
    {
     "name": "stderr",
     "output_type": "stream",
     "text": [
      "/Users/zekunwu/Desktop/HAI-UCL-Hackathon/.venv/lib/python3.10/site-packages/holisticai/robustness/metrics/dataset_shift/_accuracy_degradation_profile.py:526: FutureWarning: The behavior of DataFrame concatenation with empty or all-NA entries is deprecated. In a future version, this will no longer exclude empty or all-NA columns when determining the result dtypes. To retain the old behavior, exclude the relevant entries before the concat operation.\n",
      "  results_summary_df = pd.concat([results_summary_df, new_row], ignore_index=True)\n"
     ]
    },
    {
     "data": {
      "text/plain": "0.46"
     },
     "execution_count": 19,
     "metadata": {},
     "output_type": "execute_result"
    }
   ],
   "source": [
    "from holisticai.robustness.metrics import (\n",
    "    accuracy_degradation_profile,\n",
    "    accuracy_degradation_factor,\n",
    ")\n",
    "import pandas as pd\n",
    "\n",
    "results = accuracy_degradation_profile(test['X'], \n",
    "                                    test['y'], \n",
    "                                    y_test_pred, \n",
    "                                    n_neighbors = 50,\n",
    "                                    step_size = 0.02,\n",
    "                                    )\n",
    "accuracy_degradation_factor(pd.DataFrame(results.data))"
   ]
  },
  {
   "cell_type": "markdown",
   "metadata": {},
   "source": [
    "## Extra Example: Bias-Accuracy Tradeoff"
   ]
  },
  {
   "cell_type": "code",
   "execution_count": 20,
   "metadata": {
    "ExecuteTime": {
     "end_time": "2024-11-19T17:52:02.552207Z",
     "start_time": "2024-11-19T17:52:02.546821Z"
    }
   },
   "outputs": [],
   "source": [
    "import warnings\n",
    "warnings.filterwarnings(\"ignore\")\n",
    "\n",
    "import matplotlib.pyplot as plt\n",
    "import seaborn as sns\n",
    "import numpy as np\n",
    "sns.set_style(\"whitegrid\")\n",
    "\n",
    "from sklearn.linear_model import LogisticRegression\n",
    "from sklearn.tree import DecisionTreeClassifier\n",
    "from sklearn.ensemble import RandomForestClassifier\n",
    "from sklearn.neural_network import MLPClassifier\n",
    "from holisticai.bias.metrics import equal_opportunity_diff, statistical_parity, disparate_impact\n",
    "from sklearn.metrics import accuracy_score"
   ]
  },
  {
   "cell_type": "code",
   "execution_count": 21,
   "metadata": {
    "ExecuteTime": {
     "end_time": "2024-11-19T17:52:02.556160Z",
     "start_time": "2024-11-19T17:52:02.552741Z"
    }
   },
   "outputs": [],
   "source": [
    "class BaseMetric:\n",
    "    # BaseMetric class with typical inputs\n",
    "    def __init__(self, model, train, test):\n",
    "        self.model = model\n",
    "        self.train = train\n",
    "        self.test = test\n",
    "\n",
    "class MyCustomMetric(BaseMetric):\n",
    "    best_value = 0\n",
    "    # You can define your own custom metric to be optimized                \n",
    "    def compute(self):\n",
    "        y_pred = self.model.predict(self.test['X'])\n",
    "        acc = accuracy_score(self.test['y'], y_pred)\n",
    "        di = disparate_impact(self.test['group_a'], self.test['group_b'], y_pred)\n",
    "        \n",
    "        error_accuracy = 1 - acc # min value: 0\n",
    "        error_bias = abs(1-di) # min value: 0\n",
    "        error  = error_accuracy + error_bias\n",
    "        return error\n",
    "\n",
    "class EqualOpportunity(BaseMetric):\n",
    "    best_value = 0\n",
    "    def compute(self):\n",
    "        y_pred = self.model.predict(self.test['X'])\n",
    "        eo = equal_opportunity_diff(self.test['group_a'], self.test['group_b'], y_pred, self.test['y'])\n",
    "        return eo\n",
    "\n",
    "class Accuracy(BaseMetric):\n",
    "    best_value = 1\n",
    "    def compute(self):\n",
    "        y_pred = self.model.predict(self.test['X'])\n",
    "        eo = accuracy_score(self.test['y'], y_pred)\n",
    "        return eo\n",
    "\n",
    "class DisparateImpact(BaseMetric):\n",
    "    best_value = 1\n",
    "    def compute(self):\n",
    "        y_pred = self.model.predict(self.test['X'])\n",
    "        di = disparate_impact(self.test['group_a'], self.test['group_b'], y_pred)\n",
    "        return di"
   ]
  },
  {
   "cell_type": "code",
   "execution_count": 22,
   "metadata": {
    "ExecuteTime": {
     "end_time": "2024-11-19T17:52:02.565386Z",
     "start_time": "2024-11-19T17:52:02.556751Z"
    }
   },
   "outputs": [],
   "source": [
    "from typing import Callable\n",
    "from tqdm import tqdm\n",
    "\n",
    "class MultiObjetiveOptimizer:\n",
    "    models = {\n",
    "        'LR_l2': LogisticRegression(penalty='l2', C=1.0, solver='liblinear', random_state=42),\n",
    "        'LR_l1': LogisticRegression(penalty='l1', C=1.0, solver='liblinear', random_state=42),\n",
    "        'RF_50': RandomForestClassifier(n_estimators=50, random_state=42),\n",
    "        'RF_100': RandomForestClassifier(n_estimators=100, random_state=42),\n",
    "        'RF_150': RandomForestClassifier(n_estimators=150, random_state=42),\n",
    "        'DT_5': DecisionTreeClassifier(max_depth=5, random_state=42),\n",
    "        'DT_10': DecisionTreeClassifier(max_depth=10, random_state=42),\n",
    "        'DT_15': DecisionTreeClassifier(max_depth=15, random_state=42),\n",
    "        'MLP_50': MLPClassifier(hidden_layer_sizes=(50,), random_state=42),\n",
    "        'MLP_100': MLPClassifier(hidden_layer_sizes=(100,), random_state=42),\n",
    "        'MLP_150': MLPClassifier(hidden_layer_sizes=(150,), random_state=42),\n",
    "    }\n",
    "\n",
    "    def optimize(self, train, test, metric_evaluation_class: Callable, metric_monitor_classes: list[Callable]):\n",
    "        best_obj_score = np.inf\n",
    "        history = []\n",
    "        def objective_function(model, train, test):\n",
    "            metric = metric_evaluation_class(model, train, test) \n",
    "            return np.abs(metric.best_value - metric.compute())     \n",
    "\n",
    "        history = []\n",
    "        for model_name, model in tqdm(self.models.items()):\n",
    "            model = model\n",
    "            model.fit(train['X'], train['y'])\n",
    "            \n",
    "            obj_score = objective_function(model, train, test)\n",
    "             \n",
    "            if best_obj_score > obj_score:\n",
    "                best_obj_score = obj_score\n",
    "                best_model_name = model_name\n",
    "                best_model = model\n",
    "\n",
    "            scores = {m.__name__:m(model, train, test).compute() for m in metric_monitor_classes}\n",
    "            history.append({'model': model_name, 'obj_score':obj_score, **scores})\n",
    "\n",
    "        return {\n",
    "            'best_model_name': best_model_name,\n",
    "            'best_model': best_model,\n",
    "            'best_obj_score': best_obj_score,\n",
    "            'history': history\n",
    "        }"
   ]
  },
  {
   "cell_type": "code",
   "execution_count": 23,
   "metadata": {
    "ExecuteTime": {
     "end_time": "2024-11-19T17:52:15.298950Z",
     "start_time": "2024-11-19T17:52:02.566222Z"
    }
   },
   "outputs": [
    {
     "name": "stderr",
     "output_type": "stream",
     "text": [
      "100%|██████████| 11/11 [00:12<00:00,  1.16s/it]\n"
     ]
    }
   ],
   "source": [
    "optimizer = MultiObjetiveOptimizer()\n",
    "\n",
    "metric_evaluation_class = MyCustomMetric\n",
    "metric_monitor_classes = [EqualOpportunity, Accuracy, DisparateImpact]\n",
    "\n",
    "result = optimizer.optimize(train, test, metric_evaluation_class, metric_monitor_classes)"
   ]
  },
  {
   "cell_type": "markdown",
   "metadata": {},
   "source": [
    "## Best Model"
   ]
  },
  {
   "cell_type": "code",
   "execution_count": 24,
   "metadata": {
    "ExecuteTime": {
     "end_time": "2024-11-19T17:52:15.302023Z",
     "start_time": "2024-11-19T17:52:15.299728Z"
    }
   },
   "outputs": [
    {
     "data": {
      "text/plain": "('DT_15', np.float64(1.1610056846547694))"
     },
     "execution_count": 24,
     "metadata": {},
     "output_type": "execute_result"
    }
   ],
   "source": [
    "result['best_model_name'], result['best_obj_score']"
   ]
  },
  {
   "cell_type": "markdown",
   "metadata": {},
   "source": [
    "## Some visualizations"
   ]
  },
  {
   "cell_type": "code",
   "execution_count": 25,
   "metadata": {
    "ExecuteTime": {
     "end_time": "2024-11-19T17:52:15.306647Z",
     "start_time": "2024-11-19T17:52:15.302630Z"
    }
   },
   "outputs": [
    {
     "data": {
      "text/plain": "      model  obj_score  EqualOpportunity  Accuracy  DisparateImpact\n0     LR_l2   1.947724          0.055018  0.934250         2.881974\n1     LR_l1   1.817888          0.068106  0.935083         2.752972\n2     RF_50   1.599961          0.138008  0.940167         2.540128\n3    RF_100   1.652415          0.126553  0.940000         2.592415\n4    RF_150   1.637732          0.135341  0.940083         2.577815\n5      DT_5   1.628211          0.072321  0.940083         2.568294\n6     DT_10   1.343298          0.075338  0.940667         2.283965\n7     DT_15   1.161006          0.095518  0.927167         2.088172\n8    MLP_50   1.963659          0.111358  0.930167         2.893826\n9   MLP_100   1.905569          0.072818  0.931500         2.837069\n10  MLP_150   2.027195          0.126266  0.929917         2.957112",
      "text/html": "<div>\n<style scoped>\n    .dataframe tbody tr th:only-of-type {\n        vertical-align: middle;\n    }\n\n    .dataframe tbody tr th {\n        vertical-align: top;\n    }\n\n    .dataframe thead th {\n        text-align: right;\n    }\n</style>\n<table border=\"1\" class=\"dataframe\">\n  <thead>\n    <tr style=\"text-align: right;\">\n      <th></th>\n      <th>model</th>\n      <th>obj_score</th>\n      <th>EqualOpportunity</th>\n      <th>Accuracy</th>\n      <th>DisparateImpact</th>\n    </tr>\n  </thead>\n  <tbody>\n    <tr>\n      <th>0</th>\n      <td>LR_l2</td>\n      <td>1.947724</td>\n      <td>0.055018</td>\n      <td>0.934250</td>\n      <td>2.881974</td>\n    </tr>\n    <tr>\n      <th>1</th>\n      <td>LR_l1</td>\n      <td>1.817888</td>\n      <td>0.068106</td>\n      <td>0.935083</td>\n      <td>2.752972</td>\n    </tr>\n    <tr>\n      <th>2</th>\n      <td>RF_50</td>\n      <td>1.599961</td>\n      <td>0.138008</td>\n      <td>0.940167</td>\n      <td>2.540128</td>\n    </tr>\n    <tr>\n      <th>3</th>\n      <td>RF_100</td>\n      <td>1.652415</td>\n      <td>0.126553</td>\n      <td>0.940000</td>\n      <td>2.592415</td>\n    </tr>\n    <tr>\n      <th>4</th>\n      <td>RF_150</td>\n      <td>1.637732</td>\n      <td>0.135341</td>\n      <td>0.940083</td>\n      <td>2.577815</td>\n    </tr>\n    <tr>\n      <th>5</th>\n      <td>DT_5</td>\n      <td>1.628211</td>\n      <td>0.072321</td>\n      <td>0.940083</td>\n      <td>2.568294</td>\n    </tr>\n    <tr>\n      <th>6</th>\n      <td>DT_10</td>\n      <td>1.343298</td>\n      <td>0.075338</td>\n      <td>0.940667</td>\n      <td>2.283965</td>\n    </tr>\n    <tr>\n      <th>7</th>\n      <td>DT_15</td>\n      <td>1.161006</td>\n      <td>0.095518</td>\n      <td>0.927167</td>\n      <td>2.088172</td>\n    </tr>\n    <tr>\n      <th>8</th>\n      <td>MLP_50</td>\n      <td>1.963659</td>\n      <td>0.111358</td>\n      <td>0.930167</td>\n      <td>2.893826</td>\n    </tr>\n    <tr>\n      <th>9</th>\n      <td>MLP_100</td>\n      <td>1.905569</td>\n      <td>0.072818</td>\n      <td>0.931500</td>\n      <td>2.837069</td>\n    </tr>\n    <tr>\n      <th>10</th>\n      <td>MLP_150</td>\n      <td>2.027195</td>\n      <td>0.126266</td>\n      <td>0.929917</td>\n      <td>2.957112</td>\n    </tr>\n  </tbody>\n</table>\n</div>"
     },
     "execution_count": 25,
     "metadata": {},
     "output_type": "execute_result"
    }
   ],
   "source": [
    "import pandas as pd\n",
    "\n",
    "df = pd.DataFrame(result['history'])\n",
    "df"
   ]
  },
  {
   "cell_type": "code",
   "execution_count": 26,
   "metadata": {
    "ExecuteTime": {
     "end_time": "2024-11-19T17:52:15.310567Z",
     "start_time": "2024-11-19T17:52:15.307326Z"
    }
   },
   "outputs": [],
   "source": [
    "def plot_accuracy_vs_bias_with_manual_colorbar(df):\n",
    "    fig, axes = plt.subplots(1, 2, figsize=(15, 6), sharey=False)\n",
    "    \n",
    "    sc1 = axes[0].scatter(df['Accuracy'], df['EqualOpportunity'], \n",
    "                          c=df['obj_score'], cmap='coolwarm', s=100)\n",
    "    axes[0].set_title('Accuracy vs Equal Opportunity')\n",
    "    axes[0].set_xlabel('Accuracy')\n",
    "    axes[0].set_ylabel('Equal Opportunity')\n",
    "    \n",
    "    for i, model in enumerate(df['model']):\n",
    "        axes[0].annotate(model, (df['Accuracy'][i], df['EqualOpportunity'][i]), fontsize=8, ha='right')\n",
    "\n",
    "    sc2 = axes[1].scatter(df['Accuracy'], df['DisparateImpact'], \n",
    "                          c=df['obj_score'], cmap='coolwarm', s=100)\n",
    "    axes[1].set_title('Accuracy vs Disparate Impact')\n",
    "    axes[1].set_xlabel('Accuracy')\n",
    "    axes[1].set_ylabel('Disparate Impact')\n",
    "\n",
    "    for i, model in enumerate(df['model']):\n",
    "        axes[1].annotate(model, (df['Accuracy'][i], df['DisparateImpact'][i]), fontsize=8, ha='right')\n",
    "\n",
    "    cbar = fig.colorbar(sc1, ax=axes, orientation='vertical', fraction=0.03)\n",
    "    cbar.set_label('Objective Score (obj_score)')\n",
    "    \n",
    "    plt.show()"
   ]
  },
  {
   "cell_type": "code",
   "execution_count": 27,
   "metadata": {
    "ExecuteTime": {
     "end_time": "2024-11-19T17:52:15.509753Z",
     "start_time": "2024-11-19T17:52:15.311049Z"
    }
   },
   "outputs": [
    {
     "data": {
      "text/plain": "<Figure size 1500x600 with 3 Axes>",
      "image/png": "[encoded data removed]"
     },
     "metadata": {},
     "output_type": "display_data"
    }
   ],
   "source": [
    "plot_accuracy_vs_bias_with_manual_colorbar(df)"
   ]
  }
 ],
 "metadata": {
  "kernelspec": {
   "display_name": "base",
   "language": "python",
   "name": "python3"
  },
  "language_info": {
   "codemirror_mode": {
    "name": "ipython",
    "version": 3
   },
   "file_extension": ".py",
   "mimetype": "text/x-python",
   "name": "python",
   "nbconvert_exporter": "python",
   "pygments_lexer": "ipython3",
   "version": "3.12.2"
  }
 },
 "nbformat": 4,
 "nbformat_minor": 2
}
